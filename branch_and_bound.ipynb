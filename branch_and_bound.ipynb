{
  "nbformat": 4,
  "nbformat_minor": 0,
  "metadata": {
    "colab": {
      "provenance": []
    },
    "kernelspec": {
      "name": "python3",
      "display_name": "Python 3"
    },
    "language_info": {
      "name": "python"
    }
  },
  "cells": [
    {
      "cell_type": "code",
      "execution_count": null,
      "metadata": {
        "id": "1WMmvzFl8OuV",
        "outputId": "1ec46b18-34ea-4bfd-cb4d-668184cddd56",
        "colab": {
          "base_uri": "https://localhost:8080/"
        }
      },
      "outputs": [
        {
          "output_type": "stream",
          "name": "stdout",
          "text": [
            "Collecting mip\n",
            "  Downloading mip-1.15.0-py3-none-any.whl.metadata (21 kB)\n",
            "Collecting cffi==1.15.* (from mip)\n",
            "  Downloading cffi-1.15.1-cp310-cp310-manylinux_2_17_x86_64.manylinux2014_x86_64.whl.metadata (1.1 kB)\n",
            "Requirement already satisfied: pycparser in /usr/local/lib/python3.10/dist-packages (from cffi==1.15.*->mip) (2.22)\n",
            "Downloading mip-1.15.0-py3-none-any.whl (15.3 MB)\n",
            "\u001b[2K   \u001b[90m━━━━━━━━━━━━━━━━━━━━━━━━━━━━━━━━━━━━━━━━\u001b[0m \u001b[32m15.3/15.3 MB\u001b[0m \u001b[31m24.6 MB/s\u001b[0m eta \u001b[36m0:00:00\u001b[0m\n",
            "\u001b[?25hDownloading cffi-1.15.1-cp310-cp310-manylinux_2_17_x86_64.manylinux2014_x86_64.whl (441 kB)\n",
            "\u001b[2K   \u001b[90m━━━━━━━━━━━━━━━━━━━━━━━━━━━━━━━━━━━━━━━━\u001b[0m \u001b[32m441.8/441.8 kB\u001b[0m \u001b[31m11.8 MB/s\u001b[0m eta \u001b[36m0:00:00\u001b[0m\n",
            "\u001b[?25hInstalling collected packages: cffi, mip\n",
            "  Attempting uninstall: cffi\n",
            "    Found existing installation: cffi 1.17.1\n",
            "    Uninstalling cffi-1.17.1:\n",
            "      Successfully uninstalled cffi-1.17.1\n",
            "\u001b[31mERROR: pip's dependency resolver does not currently take into account all the packages that are installed. This behaviour is the source of the following dependency conflicts.\n",
            "pygit2 1.15.1 requires cffi>=1.16.0, but you have cffi 1.15.1 which is incompatible.\u001b[0m\u001b[31m\n",
            "\u001b[0mSuccessfully installed cffi-1.15.1 mip-1.15.0\n"
          ]
        },
        {
          "output_type": "display_data",
          "data": {
            "application/vnd.colab-display-data+json": {
              "pip_warning": {
                "packages": [
                  "cffi"
                ]
              },
              "id": "70a5efe397c943af9cd78cca441ff505"
            }
          },
          "metadata": {}
        }
      ],
      "source": [
        "!pip install mip"
      ]
    },
    {
      "cell_type": "code",
      "source": [
        "from mip import *\n",
        "from queue import Queue"
      ],
      "metadata": {
        "id": "54k4cyNeiQbl"
      },
      "execution_count": null,
      "outputs": []
    },
    {
      "cell_type": "code",
      "source": [
        "def read(filename):\n",
        "    \"\"\"\n",
        "    Lê um arquivo de texto contendo dados de um problema de programação linear inteira e\n",
        "    retorna o número de variáveis, o número de restrições, o vetor objetivo e as restrições.\n",
        "\n",
        "    Parâmetros:\n",
        "    filename (string): O nome do arquivo a ser lido.\n",
        "\n",
        "    Retorna:\n",
        "    tuple: Contendo o número de variáveis, o número de restrições, o vetor da função objetivo e as restrições.\n",
        "    \"\"\"\n",
        "\n",
        "    # Abre o arquivo para leitura\n",
        "    with open(filename, 'r') as file:\n",
        "        # Lê todas as linhas do arquivo e remove espaços extras\n",
        "        lines = file.readlines()\n",
        "        lines = [line.strip().split() for line in lines]  # Quebra cada linha em uma lista de elementos\n",
        "        # Converte todos os elementos das listas de strings para inteiros\n",
        "        lines = [[int(element) for element in line] for line in lines]\n",
        "\n",
        "        # A primeira linha contém o número de variáveis e o número de restrições\n",
        "        variables = lines[0][0]\n",
        "        num_restrictions = lines[0][1]\n",
        "\n",
        "        # A segunda linha contém o vetor da função objetivo\n",
        "        objetive = lines[1]\n",
        "\n",
        "        # As demais linhas representam as restrições do problema\n",
        "        restrictions = lines[2:]\n",
        "\n",
        "    return variables, num_restrictions, objetive, restrictions"
      ],
      "metadata": {
        "id": "63AAd4jj1gFi"
      },
      "execution_count": null,
      "outputs": []
    },
    {
      "cell_type": "code",
      "source": [
        "def solve_relaxation(model, restricoes, objetivo, variaveis):\n",
        "    \"\"\"\n",
        "    Resolve a relaxação linear do problema configurando o modelo com a função\n",
        "    objetivo e restrições fornecidadas.\n",
        "\n",
        "    Parâmetros:\n",
        "    model (mip.Model): O modelo de programação linear inteira a ser otimizado.\n",
        "    restricoes (list): Lista de listas representando as restrições, onde cada\n",
        "                       sublista contém os coeficientes das variáveis e o valor\n",
        "                       do lado direito.\n",
        "    objetivo (list): Lista de coeficientes para a função objetivo.\n",
        "    variaveis (int): O número total de variáveis no problema.\n",
        "\n",
        "    Retorna:\n",
        "    tuple: Retorna o valor da função objetivo e os valores fracionários das variáveis\n",
        "           se houver uma solução; caso contrário, retorna (None, None).\n",
        "    \"\"\"\n",
        "\n",
        "    # Define a função objetivo do modelo como a soma dos produtos dos coeficientes\n",
        "    # do objetivo e das variáveis correspondentes\n",
        "    model.objective = xsum(objetivo[i] * model.vars[i] for i in range(variaveis))\n",
        "\n",
        "    # Adiciona cada restrição ao modelo, onde cada uma consiste na soma dos produtos\n",
        "    # dos coeficientes das variáveis, limitados pelo valor do lado direito da restrição\n",
        "    for data in restricoes:\n",
        "        model += xsum(data[i] * model.vars[i] for i in range(variaveis)) <= data[-1]\n",
        "\n",
        "    # Executa o processo de otimização para encontrar a melhor solução fracionária\n",
        "    model.optimize()\n",
        "\n",
        "    # Se o modelo encontrar uma solução, retorna o valor da função objetivo e a\n",
        "    # lista dos valores fracionários das variáveis; caso contrário, retorna (None, None)\n",
        "    if model.num_solutions:\n",
        "        return model.objective_value, [v.x for v in model.vars]\n",
        "    else:\n",
        "        return None, None"
      ],
      "metadata": {
        "id": "Xs_PcR5e6BUn"
      },
      "execution_count": null,
      "outputs": []
    },
    {
      "cell_type": "code",
      "source": [
        "def branch(solucao, alpha=0.0001):\n",
        "    \"\"\"\n",
        "    Identifica a variável mais próxima de ser binária, mas que ainda não é inteira, para ser usada\n",
        "    como a variável de ramificação no processo de Branch and Bound.\n",
        "\n",
        "    Parâmetros:\n",
        "    solucao (list): Lista de valores das variáveis na solução atual.\n",
        "    alpha (float, opcional): Tolerância para considerar uma variável como inteira. O valor padrão é 0.0001.\n",
        "\n",
        "    Retorna:\n",
        "    int ou None: O índice da variável de ramificação se houver uma variável não binária;\n",
        "                 caso contrário, retorna None.\n",
        "    \"\"\"\n",
        "\n",
        "    # Identifica as variáveis não binárias (fracionárias) com base no critério alpha\n",
        "    nao_binarias = [(i, abs(x - round(x))) for i, x in enumerate(solucao) if abs(x - round(x)) > alpha]\n",
        "\n",
        "    # Se todas as variáveis são consideradas binárias dentro da tolerância, retorna None\n",
        "    if not nao_binarias:\n",
        "        return None\n",
        "\n",
        "    # Ordena as variáveis fracionárias por proximidade de 0.5 (mais longe de serem inteiras)\n",
        "    nao_binarias.sort(key=lambda x: -abs(x[1] - 0.5))\n",
        "\n",
        "    # Seleciona o índice da variável de ramificação mais distante de 0.5\n",
        "    branchV = nao_binarias[0][0]\n",
        "    return branchV\n"
      ],
      "metadata": {
        "id": "jUIf3HmGiW0g"
      },
      "execution_count": null,
      "outputs": []
    },
    {
      "cell_type": "code",
      "source": [
        "def branch_and_bound(filename):\n",
        "    \"\"\"\n",
        "    Implementa o algoritmo Branch and Bound para resolver um problema de programação inteira.\n",
        "    Lê os dados do problema a partir de um arquivo, resolve o modelo relaxado e, se necessário,\n",
        "    realiza ramificações para buscar uma solução ótima.\n",
        "\n",
        "    Parâmetros:\n",
        "    filename (str): O nome do arquivo contendo os dados do problema.\n",
        "\n",
        "    Retorna:\n",
        "    tuple: O valor da função objetivo da melhor solução inteira e a melhor solução encontrada.\n",
        "    \"\"\"\n",
        "\n",
        "    # Lê os dados do problema: número de variáveis, número de restrições, função objetivo e restrições\n",
        "    variaveis, num_restricoes, objetivo, restricoes = read(filename)\n",
        "\n",
        "    # Inicializa uma fila para armazenar nós do Branch and Bound\n",
        "    queue = Queue()\n",
        "    # Coloca o nó raiz na fila, sem restrições adicionais e com integridade inicial para cada variável\n",
        "    queue.put(([], {i: None for i in range(variaveis)}))\n",
        "\n",
        "    best_solution = None\n",
        "    best_objective = float('-inf')\n",
        "\n",
        "    # Enquanto houver nós na fila para explorar\n",
        "    while not queue.empty():\n",
        "        restricao_atual, integridade_atual = queue.get()\n",
        "\n",
        "        # Cria um novo modelo de otimização com sentido de maximização\n",
        "        m = Model(sense=MAXIMIZE)\n",
        "        # Define as variáveis contínuas com limites entre 0 e 1\n",
        "        m.vars = [m.add_var(var_type=CONTINUOUS, lb=0, ub=1) for i in range(variaveis)]\n",
        "\n",
        "        # Adiciona as restrições fixas do nó atual ao modelo\n",
        "        for (x, y) in restricao_atual:\n",
        "            if y is not None:\n",
        "                m += m.vars[x] == y\n",
        "\n",
        "        # Resolve a relaxação linear do modelo atual\n",
        "        objective_value, solution = solve_relaxation(m, restricoes, objetivo, variaveis)\n",
        "\n",
        "        # Se o valor objetivo da relaxação linear é pior que o melhor encontrado, ignora o ramo\n",
        "        if objective_value is None or objective_value <= best_objective:\n",
        "            continue\n",
        "\n",
        "        # Se a solução é viável e todos os valores das variáveis são binários, atualiza a melhor solução\n",
        "        if all(x in (0, 1) for x in solution):\n",
        "            if objective_value > best_objective:\n",
        "                best_solution = solution\n",
        "                best_objective = objective_value\n",
        "            continue\n",
        "\n",
        "        # Determina a próxima variável de ramificação\n",
        "        branch_var = branch(solution)\n",
        "        if branch_var is not None:\n",
        "            # Ramifica nas variáveis binárias (0 ou 1), adicionando restrições e colocando novos nós na fila\n",
        "            for i in [0, 1]:\n",
        "                nova_restricao = restricao_atual + [(branch_var, i)]\n",
        "                queue.put((nova_restricao, integridade_atual))\n",
        "\n",
        "    return best_objective, best_solution\n"
      ],
      "metadata": {
        "id": "-ev6NYg9iYzs"
      },
      "execution_count": null,
      "outputs": []
    },
    {
      "cell_type": "code",
      "source": [
        "def print_solution(optimal_value, optimal_solution):\n",
        "    if optimal_value is not None:\n",
        "        print(f\"Optimal value: {optimal_value}\")\n",
        "        print(\"Optimal solution:\")\n",
        "\n",
        "        for i, x in enumerate(optimal_solution):\n",
        "            print(f\"x[{i}] = {x}\")\n",
        "    else:\n",
        "        print(\"No feasible solution found.\")"
      ],
      "metadata": {
        "id": "30bV0meziar7"
      },
      "execution_count": null,
      "outputs": []
    },
    {
      "cell_type": "code",
      "source": [
        "print_solution(*branch_and_bound('test1.txt'))"
      ],
      "metadata": {
        "colab": {
          "base_uri": "https://localhost:8080/"
        },
        "id": "1ycPicmSjtAZ",
        "outputId": "76bd225b-0c47-4774-b0bf-a42ac15823b0"
      },
      "execution_count": null,
      "outputs": [
        {
          "output_type": "stream",
          "name": "stdout",
          "text": [
            "Optimal value: 20.0\n",
            "Optimal solution:\n",
            "x[0] = 0.0\n",
            "x[1] = 0.0\n",
            "x[2] = 0.0\n",
            "x[3] = 0.0\n",
            "x[4] = 1.0\n",
            "x[5] = 1.0\n",
            "x[6] = 0.0\n"
          ]
        }
      ]
    },
    {
      "cell_type": "code",
      "source": [
        "print_solution(*branch_and_bound('test2.txt'))"
      ],
      "metadata": {
        "colab": {
          "base_uri": "https://localhost:8080/"
        },
        "id": "LneUdalMw3Na",
        "outputId": "55886313-f240-497c-cdb2-2714824bbc53"
      },
      "execution_count": null,
      "outputs": [
        {
          "output_type": "stream",
          "name": "stdout",
          "text": [
            "Optimal value: 24.0\n",
            "Optimal solution:\n",
            "x[0] = 0.0\n",
            "x[1] = 0.0\n",
            "x[2] = 0.0\n",
            "x[3] = 0.0\n",
            "x[4] = 0.0\n",
            "x[5] = 1.0\n",
            "x[6] = 1.0\n",
            "x[7] = 0.0\n",
            "x[8] = 1.0\n"
          ]
        }
      ]
    },
    {
      "cell_type": "code",
      "source": [
        "print_solution(*branch_and_bound('test3.txt'))"
      ],
      "metadata": {
        "colab": {
          "base_uri": "https://localhost:8080/"
        },
        "id": "ydTlMqHDw4Xn",
        "outputId": "8e62316c-56d5-414c-ddd7-4a5d5eca0d50"
      },
      "execution_count": null,
      "outputs": [
        {
          "output_type": "stream",
          "name": "stdout",
          "text": [
            "Optimal value: 19.0\n",
            "Optimal solution:\n",
            "x[0] = 0.0\n",
            "x[1] = 0.0\n",
            "x[2] = 1.0\n",
            "x[3] = 0.0\n",
            "x[4] = 0.0\n",
            "x[5] = 0.0\n",
            "x[6] = 1.0\n",
            "x[7] = 0.0\n",
            "x[8] = 0.0\n"
          ]
        }
      ]
    },
    {
      "cell_type": "code",
      "source": [
        "print_solution(*branch_and_bound('test4.txt'))"
      ],
      "metadata": {
        "colab": {
          "base_uri": "https://localhost:8080/"
        },
        "id": "bMJRTgYCw5oA",
        "outputId": "72cee78e-c01c-44a8-e3af-bed87f0f27d1"
      },
      "execution_count": null,
      "outputs": [
        {
          "output_type": "stream",
          "name": "stdout",
          "text": [
            "Optimal value: 10.0\n",
            "Optimal solution:\n",
            "x[0] = 0.0\n",
            "x[1] = 0.0\n",
            "x[2] = 1.0\n",
            "x[3] = 0.0\n",
            "x[4] = 0.0\n",
            "x[5] = 0.0\n",
            "x[6] = 0.0\n",
            "x[7] = 0.0\n",
            "x[8] = 0.0\n"
          ]
        }
      ]
    }
  ]
}